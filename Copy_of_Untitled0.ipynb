{
  "nbformat": 4,
  "nbformat_minor": 0,
  "metadata": {
    "colab": {
      "provenance": [],
      "authorship_tag": "ABX9TyMi1fQmqyuJSjZK2RMfwb2o",
      "include_colab_link": true
    },
    "kernelspec": {
      "name": "python3",
      "display_name": "Python 3"
    },
    "language_info": {
      "name": "python"
    }
  },
  "cells": [
    {
      "cell_type": "markdown",
      "metadata": {
        "id": "view-in-github",
        "colab_type": "text"
      },
      "source": [
        "<a href=\"https://colab.research.google.com/github/Siva290822/ICP1_BigData/blob/main/Copy_of_Untitled0.ipynb\" target=\"_parent\"><img src=\"https://colab.research.google.com/assets/colab-badge.svg\" alt=\"Open In Colab\"/></a>"
      ]
    },
    {
      "cell_type": "code",
      "execution_count": null,
      "metadata": {
        "id": "3ZBsIcLHbwFU"
      },
      "outputs": [],
      "source": []
    },
    {
      "cell_type": "code",
      "source": [
        "input_str = input(\"Enter the string: \")\n",
        "char_list = list(input_str)\n",
        "\n",
        "if len(char_list) >= 6:\n",
        "    del char_list[-1]\n",
        "    del char_list[-1]\n",
        "else:\n",
        "    print(\"Input too short to delete 2 characters.\")\n",
        "\n",
        "char_list.reverse()\n",
        "\n",
        "result = ''.join(char_list)\n",
        "\n",
        "print(\"Resultant reversed string:\", result)\n"
      ],
      "metadata": {
        "colab": {
          "base_uri": "https://localhost:8080/"
        },
        "id": "zWqlB0uDdVhn",
        "outputId": "d5bdfc12-b305-4742-cb6f-84544780ac28"
      },
      "execution_count": null,
      "outputs": [
        {
          "output_type": "stream",
          "name": "stdout",
          "text": [
            "Enter the string: python\n",
            "Resultant reversed string: htyp\n"
          ]
        }
      ]
    },
    {
      "cell_type": "code",
      "source": [
        "num1 = float(input(\"Enter the first number: \"))\n",
        "num2 = float(input(\"Enter the second number: \"))\n",
        "\n",
        "add = num1 + num2\n",
        "sub = num1 - num2\n",
        "mul = num1 * num2\n",
        "\n",
        "if num2 != 0:\n",
        "    div = num1 / num2\n",
        "else:\n",
        "    div = \"Undefined (cannot divide by zero)\"\n",
        "\n",
        "print(\"\\n--- Arithmetic Operations Results ---\")\n",
        "print(\"Addition:\", add)\n",
        "print(\"Subtraction:\", sub)\n",
        "print(\"Multiplication:\", mul)\n",
        "print(\"Division:\", div)\n"
      ],
      "metadata": {
        "colab": {
          "base_uri": "https://localhost:8080/"
        },
        "id": "Sc8KphBLeFKy",
        "outputId": "153a36a9-aa9b-4de5-8359-7f6c15782563"
      },
      "execution_count": null,
      "outputs": [
        {
          "output_type": "stream",
          "name": "stdout",
          "text": [
            "Enter the first number: 1\n",
            "Enter the second number: 2\n",
            "\n",
            "--- Arithmetic Operations Results ---\n",
            "Addition: 3.0\n",
            "Subtraction: -1.0\n",
            "Multiplication: 2.0\n",
            "Division: 0.5\n"
          ]
        }
      ]
    },
    {
      "cell_type": "code",
      "source": [
        "sentence = input(\"Enter a sentence: \")\n",
        "updated_sentence = sentence.replace('python', 'pythons')\n",
        "\n",
        "print(\"Updated sentence:\", updated_sentence)\n"
      ],
      "metadata": {
        "colab": {
          "base_uri": "https://localhost:8080/"
        },
        "id": "XudqDZL2ewat",
        "outputId": "f3fecd26-e635-496f-ee5a-afa50ffd7ec1"
      },
      "execution_count": null,
      "outputs": [
        {
          "output_type": "stream",
          "name": "stdout",
          "text": [
            "Enter a sentence: I love playing with python\n",
            "Updated sentence: I love playing with pythons\n"
          ]
        }
      ]
    },
    {
      "cell_type": "code",
      "source": [
        "score = float(input(\"Enter your class score (0-100): \"))\n",
        "\n",
        "if score >= 90 and score <= 100:\n",
        "    print(\"Grade: A\")\n",
        "elif score >= 80 and score < 90:\n",
        "    print(\"Grade: B\")\n",
        "elif score >= 70 and score < 80:\n",
        "    print(\"Grade: C\")\n",
        "elif score >= 60 and score < 70:\n",
        "    print(\"Grade: D\")\n",
        "elif score >= 0 and score < 60:\n",
        "    print(\"Grade: F\")\n",
        "else:\n",
        "    print(\"Invalid score. Please enter a value between 0 and 100.\")\n"
      ],
      "metadata": {
        "colab": {
          "base_uri": "https://localhost:8080/"
        },
        "id": "XOOA8bGbf0v7",
        "outputId": "b795fa4c-4156-431b-95dc-13ad172c0682"
      },
      "execution_count": null,
      "outputs": [
        {
          "output_type": "stream",
          "name": "stdout",
          "text": [
            "Enter your class score (0-100): 97\n",
            "Grade: A\n"
          ]
        }
      ]
    },
    {
      "cell_type": "code",
      "source": [
        "x = [23, 'Python', 23.98]\n",
        "types = [type(i) for i in x]\n",
        "\n",
        "print(x)\n",
        "print(types)\n"
      ],
      "metadata": {
        "colab": {
          "base_uri": "https://localhost:8080/"
        },
        "id": "_Jw4jUMUgJoO",
        "outputId": "4fd6ffbc-c86d-46e9-c6ee-95a2c2f59c22"
      },
      "execution_count": null,
      "outputs": [
        {
          "output_type": "stream",
          "name": "stdout",
          "text": [
            "[23, 'Python', 23.98]\n",
            "[<class 'int'>, <class 'str'>, <class 'float'>]\n"
          ]
        }
      ]
    },
    {
      "cell_type": "code",
      "source": [
        "IT_companies = {'Facebook', 'Google', 'Microsoft', 'Apple', 'IBM', 'Oracle', 'Amazon'}\n",
        "A = {19, 22, 24, 20, 25, 26}\n",
        "B = {19, 22, 20, 25, 26, 24, 28, 27}\n",
        "age = [22, 19, 24, 25, 26, 24, 25, 24]\n",
        "\n",
        "print(\"1. Length of IT_companies:\", len(IT_companies))\n",
        "\n",
        "IT_companies.add('Twitter')\n",
        "print(\"2. After adding Twitter:\", IT_companies)\n",
        "\n",
        "IT_companies.update(['Snapchat', 'Tesla', 'LinkedIn'])\n",
        "print(\"3. After adding multiple companies:\", IT_companies)\n",
        "\n",
        "IT_companies.remove('IBM')\n",
        "print(\"4. After removing IBM:\", IT_companies)\n",
        "\n",
        "print(\"5. 'remove()' raises error if item not found, 'discard()' does not raise error.\")\n",
        "\n",
        "join_AB = A.union(B)\n",
        "print(\"6. A union B:\", join_AB)\n",
        "\n",
        "intersect_AB = A.intersection(B)\n",
        "print(\"7. A intersection B:\", intersect_AB)\n",
        "\n",
        "print(\"8. Is A subset of B?:\", A.issubset(B))\n",
        "\n",
        "print(\"9. Are A and B disjoint?:\", A.isdisjoint(B))\n",
        "\n",
        "print(\"10. A | B:\", A | B)\n",
        "print(\"    B | A:\", B | A)\n",
        "\n",
        "print(\"11. Symmetric difference:\", A.symmetric_difference(B))\n",
        "\n",
        "del IT_companies\n",
        "del A\n",
        "del B\n",
        "print(\"12. Sets deleted.\")\n",
        "\n",
        "age_set = set(age)\n",
        "print(\"13. Length of age list:\", len(age))\n",
        "print(\"    Length of age set:\", len(age_set))\n"
      ],
      "metadata": {
        "colab": {
          "base_uri": "https://localhost:8080/"
        },
        "id": "3uImW252hPnY",
        "outputId": "2c6ce6bb-e99f-4b1a-dc2a-0b828c625f05"
      },
      "execution_count": null,
      "outputs": [
        {
          "output_type": "stream",
          "name": "stdout",
          "text": [
            "1. Length of IT_companies: 7\n",
            "2. After adding Twitter: {'IBM', 'Apple', 'Amazon', 'Google', 'Facebook', 'Oracle', 'Microsoft', 'Twitter'}\n",
            "3. After adding multiple companies: {'Facebook', 'Microsoft', 'Snapchat', 'Oracle', 'Tesla', 'LinkedIn', 'Apple', 'Amazon', 'Google', 'IBM', 'Twitter'}\n",
            "4. After removing IBM: {'Facebook', 'Microsoft', 'Snapchat', 'Oracle', 'Tesla', 'LinkedIn', 'Apple', 'Amazon', 'Google', 'Twitter'}\n",
            "5. 'remove()' raises error if item not found, 'discard()' does not raise error.\n",
            "6. A union B: {19, 20, 22, 24, 25, 26, 27, 28}\n",
            "7. A intersection B: {19, 20, 22, 24, 25, 26}\n",
            "8. Is A subset of B?: True\n",
            "9. Are A and B disjoint?: False\n",
            "10. A | B: {19, 20, 22, 24, 25, 26, 27, 28}\n",
            "    B | A: {19, 20, 22, 24, 25, 26, 27, 28}\n",
            "11. Symmetric difference: {27, 28}\n",
            "12. Sets deleted.\n",
            "13. Length of age list: 8\n",
            "    Length of age set: 5\n"
          ]
        }
      ]
    },
    {
      "cell_type": "code",
      "source": [],
      "metadata": {
        "id": "kgNKdQdqiSPN"
      },
      "execution_count": null,
      "outputs": []
    }
  ]
}